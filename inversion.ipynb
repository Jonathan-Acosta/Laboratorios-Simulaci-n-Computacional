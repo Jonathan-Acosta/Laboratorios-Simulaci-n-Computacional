{
 "cells": [
  {
   "cell_type": "markdown",
   "metadata": {
    "collapsed": true
   },
   "source": [
    "# INVERSION"
   ]
  },
  {
   "cell_type": "code",
   "execution_count": 2,
   "metadata": {
    "collapsed": false
   },
   "outputs": [
    {
     "ename": "IndentationError",
     "evalue": "expected an indented block (<ipython-input-2-03e71aff6409>, line 33)",
     "output_type": "error",
     "traceback": [
      "\u001b[1;36m  File \u001b[1;32m\"<ipython-input-2-03e71aff6409>\"\u001b[1;36m, line \u001b[1;32m33\u001b[0m\n\u001b[1;33m    num=input('Cantidad de valores')\u001b[0m\n\u001b[1;37m      ^\u001b[0m\n\u001b[1;31mIndentationError\u001b[0m\u001b[1;31m:\u001b[0m expected an indented block\n"
     ]
    }
   ],
   "source": [
    "import numpy as np\n",
    "import matplotlib.pyplot as plt\n",
    "import math\n",
    "def congruencialMixto(a,b,m,x0,muestras):\n",
    "    i=0\n",
    "    Xn=0.0\n",
    "    Un=0.0\n",
    "    generador=[]\n",
    "    while i<muestras:\n",
    "        Xn = ((a*x0)+b)%m\n",
    "        Un = Xn/float(m)\n",
    "        generador.append(Un)\n",
    "        x0=Xn\n",
    "        i+=1\n",
    "    return generador\n",
    "def inversion(n,x,px):\n",
    "    fda=[]\n",
    "    rel=0.0\n",
    "    fda.append(0)\n",
    "    generador=congruencialMixto(10,8,997,50,n) \n",
    "    for i in range(len(px)):\n",
    "        rel+=px[i]\n",
    "        fda.append(rel)\n",
    "    print 'variables aleatorias generadas'\n",
    "    for i in range(len(generador)):\n",
    "        for j in range(len(fda)-1):\n",
    "            if(generador[i]>fda[j] and generador[i]<=fda[j+1]):\n",
    "                print x[j]\n",
    "    print \"Valor x (variable aleatoria):\",x\n",
    "    print \"p(x):\",px\n",
    "    print \"P(X):\",fda\n",
    "    def main():\n",
    "    num=input('Cantidad de valores')  \n",
    "    x=[]\n",
    "    probabilidad=[]\n",
    "    for i in range(num):\n",
    "        val=input('Variable aleatoria ')\n",
    "        pr=input('probabilidad')\n",
    "        x.append(val)\n",
    "        probabilidad.append(pr+0.0)\n",
    "    muestras=input('Cantidad de variables aleatorias a generar')\n",
    "    inversion(muestras,x,probabilidad) \n"
   ]
  },
  {
   "cell_type": "code",
   "execution_count": null,
   "metadata": {
    "collapsed": true
   },
   "outputs": [],
   "source": []
  }
 ],
 "metadata": {
  "kernelspec": {
   "display_name": "Python 2",
   "language": "python",
   "name": "python2"
  },
  "language_info": {
   "codemirror_mode": {
    "name": "ipython",
    "version": 2
   },
   "file_extension": ".py",
   "mimetype": "text/x-python",
   "name": "python",
   "nbconvert_exporter": "python",
   "pygments_lexer": "ipython2",
   "version": "2.7.11"
  }
 },
 "nbformat": 4,
 "nbformat_minor": 0
}
