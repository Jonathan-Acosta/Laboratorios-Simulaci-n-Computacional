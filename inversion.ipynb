{
 "cells": [
  {
   "cell_type": "markdown",
   "metadata": {},
   "source": [
    "# INVERSION"
   ]
  },
  {
   "cell_type": "code",
   "execution_count": 1,
   "metadata": {
    "collapsed": false
   },
   "outputs": [
    {
     "name": "stdout",
     "output_type": "stream",
     "text": [
      "Ingrese la cantidad de valores de la variable aleatoria2\n",
      "Valor de la variable aleatoria: 2\n",
      "Valor de la probabilidad0.5\n",
      "Valor de la variable aleatoria: 1\n",
      "Valor de la probabilidad0.5\n",
      "Ingrese la cantidad de valores de la variable aleatoria:2\n",
      "Lista de inversion: \n",
      "2\n",
      "2\n",
      "Valor de la variable aleatoria X::\n",
      "[2, 1]\n",
      " p(x)\n",
      "[0.5, 0.5]\n",
      "P(X)\n",
      "[0, 0.5, 1.0]\n",
      "Valores aleatorios: \n",
      "[1.0207295422538787e-06, 9.087100629269658e-05]\n"
     ]
    }
   ],
   "source": [
    "import numpy as np\n",
    "import matplotlib.pyplot as plt\n",
    "import math\n",
    "def congruencial(a,b,m,x0,n):\n",
    "    xn=0.0\n",
    "    un=0.0\n",
    "    list = []\n",
    "    for i in range(0,n):\n",
    "        xn=(a*x0 + b)%m\n",
    "        un=xn/float(m)\n",
    "        #print un\n",
    "        list.insert(i,un)\n",
    "        x0=xn\n",
    "    return list\n",
    "def inversion(n,x,px):\n",
    "    metodo=congruencial(89.0,56.0,2147483647.0,24.0,n)\n",
    "    funacu=[]\n",
    "    temp=0.0\n",
    "    funacu.append(0)\n",
    "\n",
    "    for i in range(len(px)):\n",
    "        temp+=px[i]\n",
    "        funacu.append(temp)\n",
    "    print 'Lista de inversion: '\n",
    "    for i in range(len(metodo)):\n",
    "        for j in range(len(funacu)-1):\n",
    "            if(metodo[i]>funacu[j] and metodo[i]<=funacu[j+1]):\n",
    "                print x[j]\n",
    "    print \"Valor de la variable aleatoria X::\"\n",
    "    print x\n",
    "    print \" p(x)\"\n",
    "    print px\n",
    "    print \"P(X)\"\n",
    "    print funacu\n",
    "    print \"Valores aleatorios: \"\n",
    "    print metodo\n",
    "num=input('Ingrese la cantidad de valores de la variable aleatoria')  \n",
    "x=[]\n",
    "px=[]\n",
    "for i in range(num):\n",
    "    val=input('Valor de la variable aleatoria: ')\n",
    "    prom=input('Valor de la probabilidad')\n",
    "    x.append(val)\n",
    "    px.append(prom+0.0)\n",
    "muestras=input('Ingrese la cantidad de valores de la variable aleatoria:')\n",
    "inversion(muestras,x,px) \n"
   ]
  },
  {
   "cell_type": "code",
   "execution_count": null,
   "metadata": {
    "collapsed": true
   },
   "outputs": [],
   "source": []
  }
 ],
 "metadata": {
  "kernelspec": {
   "display_name": "Python 2",
   "language": "python",
   "name": "python2"
  },
  "language_info": {
   "codemirror_mode": {
    "name": "ipython",
    "version": 2
   },
   "file_extension": ".py",
   "mimetype": "text/x-python",
   "name": "python",
   "nbconvert_exporter": "python",
   "pygments_lexer": "ipython2",
   "version": "2.7.11"
  }
 },
 "nbformat": 4,
 "nbformat_minor": 0
}
