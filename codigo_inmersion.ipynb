import numpy as np
import matplotlib.pyplot as plt
import math
def congruencial(a,b,m,x0,n):
    xN=0.0
    un=0.0
    list = []
    for i in range(0,n):
        xN=(a*x0 + b)%m
        un=xN/float(m)
        list.insert(i,un)
        x0=xN
    return list
def inversion(n,x,px):
    generador=congruencial(89.0,56.0,2147483647.0,24.0,n)
    fda=[]
    tem=0.0
    fda.append(0)

    for i in range(len(px)):
        tem+=px[i]
        fda.append(tem)
    print 'Lista x inversion: '
    for i in range(len(generador)):
        for j in range(len(fda)-1):
            if(generador[i]>fda[j] and generador[i]<=fda[j+1]):
                print x[j]
    print "V.A x :"
    print x
    print "p(x) "
    print px
    print "P(X)"
    print fda
    print "valores obtenidos por el método congruencial"
    print generador
numvarale=input('cuantos números tomará la variable aleatoria?')  
x=[]
px=[]
for i in range(numvarale):
    val=input('valor para la variable aleatoria: ')
    prob=input('valor de la probabilidad ')
    x.append(val)
    px.append(prob+0.0)
cantvarale=input('cuantos números aleatorios utilizará? ')
inversion(cantvarale,x,px)    
