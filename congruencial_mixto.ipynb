{
 "cells": [
  {
   "cell_type": "markdown",
   "metadata": {},
   "source": [
    "# CONGRUENCIAL MIXTO"
   ]
  },
  {
   "cell_type": "markdown",
   "metadata": {},
   "source": [
    "## Método de generador de números aleatorios"
   ]
  },
  {
   "cell_type": "code",
   "execution_count": 1,
   "metadata": {
    "collapsed": false
   },
   "outputs": [
    {
     "name": "stdout",
     "output_type": "stream",
     "text": [
      "Ingrese el parametro a:5\n",
      "Ingrese el parametro b:3\n",
      "Ingrese el parametro m:16\n",
      "Ingrese la semilla:7\n",
      "Ingrese el numero de numeros aleatorios que desea generar:19\n"
     ]
    },
    {
     "data": {
      "text/plain": [
       "[0.375,\n",
       " 0.0625,\n",
       " 0.5,\n",
       " 0.6875,\n",
       " 0.625,\n",
       " 0.3125,\n",
       " 0.75,\n",
       " 0.9375,\n",
       " 0.875,\n",
       " 0.5625,\n",
       " 0.0,\n",
       " 0.1875,\n",
       " 0.125,\n",
       " 0.8125,\n",
       " 0.25,\n",
       " 0.4375,\n",
       " 0.375,\n",
       " 0.0625,\n",
       " 0.5]"
      ]
     },
     "execution_count": 1,
     "metadata": {},
     "output_type": "execute_result"
    }
   ],
   "source": [
    "import numpy as np\n",
    "import matplotlib.pyplot as plt\n",
    "import math\n",
    "def congruencial(a,b,m,x0,n):\n",
    "    xn=0.0\n",
    "    un=0.0\n",
    "    list = []\n",
    "    for i in range(0,n):\n",
    "        xn=(a*x0 + b)%m\n",
    "        un=xn/float(m)\n",
    "        #print un\n",
    "        list.insert(i,un)\n",
    "        x0=xn\n",
    "    return list\n",
    "a= input('Ingrese el parametro a:')\n",
    "b= input('Ingrese el parametro b:')\n",
    "m= input('Ingrese el parametro m:')\n",
    "x0= input('Ingrese la semilla:')\n",
    "muestra= input('Ingrese el numero de numeros aleatorios que desea generar:')\n",
    "congruencial(a,b,m,x0,muestra)\n"
   ]
  },
  {
   "cell_type": "code",
   "execution_count": null,
   "metadata": {
    "collapsed": true
   },
   "outputs": [],
   "source": []
  }
 ],
 "metadata": {
  "kernelspec": {
   "display_name": "Python 2",
   "language": "python",
   "name": "python2"
  },
  "language_info": {
   "codemirror_mode": {
    "name": "ipython",
    "version": 2
   },
   "file_extension": ".py",
   "mimetype": "text/x-python",
   "name": "python",
   "nbconvert_exporter": "python",
   "pygments_lexer": "ipython2",
   "version": "2.7.11"
  }
 },
 "nbformat": 4,
 "nbformat_minor": 0
}
