{
 "cells": [
  {
   "cell_type": "markdown",
   "metadata": {},
   "source": [
    "# CONGRUENCIAL MIXTO"
   ]
  },
  {
   "cell_type": "markdown",
   "metadata": {},
   "source": [
    "## Método de generador de números aleatorios"
   ]
  },
  {
   "cell_type": "code",
   "execution_count": 2,
   "metadata": {
    "collapsed": false
   },
   "outputs": [
    {
     "name": "stdout",
     "output_type": "stream",
     "text": [
      "Ingrese el parametro a:5\n",
      "Ingrese el parametro b:10\n",
      "Ingrese el parametro m:997\n",
      "Ingrese la semilla:15\n",
      "Ingrese el numero de numeros aleatorios que desea generar:19\n"
     ]
    },
    {
     "data": {
      "text/plain": [
       "[0.08525576730190572,\n",
       " 0.436308926780341,\n",
       " 0.19157472417251756,\n",
       " 0.9679037111334002,\n",
       " 0.8495486459378134,\n",
       " 0.2577733199598796,\n",
       " 0.29889669007021064,\n",
       " 0.5045135406218656,\n",
       " 0.5325977933801405,\n",
       " 0.6730190571715146,\n",
       " 0.37512537612838515,\n",
       " 0.8856569709127382,\n",
       " 0.4383149448345035,\n",
       " 0.20160481444332998,\n",
       " 0.01805416248746239,\n",
       " 0.10030090270812438,\n",
       " 0.5115346038114343,\n",
       " 0.567703109327984,\n",
       " 0.8485456369107321]"
      ]
     },
     "execution_count": 2,
     "metadata": {},
     "output_type": "execute_result"
    }
   ],
   "source": [
    "import numpy as np\n",
    "import matplotlib.pyplot as plt\n",
    "import math\n",
    "def congruencial(a,b,m,x0,n):\n",
    "    xn=0.0\n",
    "    un=0.0\n",
    "    list = []\n",
    "    for i in range(0,n):\n",
    "        xn=(a*x0 + b)%m\n",
    "        un=xn/float(m)\n",
    "        #print un\n",
    "        list.insert(i,un)\n",
    "        x0=xn\n",
    "    return list\n",
    "a= input('Ingrese el parametro a:')\n",
    "b= input('Ingrese el parametro b:')\n",
    "m= input('Ingrese el parametro m:')\n",
    "x0= input('Ingrese la semilla:')\n",
    "muestra= input('Cantidad de valores aleatorios a generar:')\n",
    "congruencial(a,b,m,x0,muestra)"
   ]
  },
  {
   "cell_type": "code",
   "execution_count": null,
   "metadata": {
    "collapsed": true
   },
   "outputs": [],
   "source": []
  }
 ],
 "metadata": {
  "kernelspec": {
   "display_name": "Python 2",
   "language": "python",
   "name": "python2"
  },
  "language_info": {
   "codemirror_mode": {
    "name": "ipython",
    "version": 2
   },
   "file_extension": ".py",
   "mimetype": "text/x-python",
   "name": "python",
   "nbconvert_exporter": "python",
   "pygments_lexer": "ipython2",
   "version": "2.7.11"
  }
 },
 "nbformat": 4,
 "nbformat_minor": 0
}
