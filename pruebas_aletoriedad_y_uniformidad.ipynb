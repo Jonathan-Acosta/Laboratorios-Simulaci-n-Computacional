{
 "cells": [
  {
   "cell_type": "markdown",
   "metadata": {},
   "source": [
    "# Pruebas de Aletoriedad y Uniformidad"
   ]
  },
  {
   "cell_type": "markdown",
   "metadata": {},
   "source": [
    "#  Implementación de contrastes de uniformidad y aleatoriedad"
   ]
  },
  {
   "cell_type": "code",
   "execution_count": null,
   "metadata": {
    "collapsed": true
   },
   "outputs": [],
   "source": []
  },
  {
   "cell_type": "code",
   "execution_count": 16,
   "metadata": {
    "collapsed": true
   },
   "outputs": [],
   "source": [
    "import math\n",
    "import numpy as np\n",
    "import matplotlib.pyplot as plt\n",
    "import math\n",
    "from collections import Counter\n",
    "import scipy as sp\n",
    "from matplotlib.pylab import hist, show\n",
    "\n",
    "def congruencialMixto(a,b,m,x0,limite):\n",
    "    i=0\n",
    "    Xn=0.0\n",
    "    Un=0.0\n",
    "    generador=[]\n",
    "    while i<limite:\n",
    "        Xn = ((a*x0)+b)%m\n",
    "        Un = Xn/float(m)\n",
    "        generador.append(Un)\n",
    "        x0=Xn\n",
    "        i+=1\n",
    "    return generador\n",
    "\n",
    "def testKolmogorov(limite):\n",
    "    # Teoretical CDF for Uniform distribution F(x)\n",
    "    u = [1.0] * limite\n",
    "    #print(u)\n",
    "\n",
    "    # Gerate random numbers with Uniform distribution f(x)\n",
    "    #np.random.seed(123456789)\n",
    "    x=congruencialMixto(16645,13467,317,999,limite)\n",
    "    # Plot empirical distribution f(x)\n",
    "    count, bins, ignored = plt.hist(x, 25, normed=True)\n",
    "    plt.plot(bins, np.ones_like(bins), linewidth=2, color='r')\n",
    "    plt.show()\n",
    "    x1 = np.arange(1/(limite+0.0),1+1/(limite+0.0),1/(limite+0.0))\n",
    "    y1 = np.cumsum(np.sort(u)/np.max(np.cumsum(u)))\n",
    "\n",
    "    x2 = np.sort(x)\n",
    "    y2 = np.cumsum(np.sort(x)/np.max(np.cumsum(x)))\n",
    "\n",
    "    De=np.absolute(y2-y1)\n",
    "    #print(D)\n",
    "    print(\"De = \",np.max(De))\n",
    "    if np.max(De)< (1.36/(limite**0.5)+0.0):\n",
    "        print 'Hipotesis valida '\n",
    "    else:\n",
    "        print 'Hipotesis rechazada'\n",
    "\n",
    "def testChicuadrado(limite,k):      #beans -> k , muestras ->imite  \n",
    "    vec=congruencialMixto(10,12,19,20,limite)\n",
    "    ParE=0.0\n",
    "    ParS=1.0/beans\n",
    "    aumento=1.0/beans\n",
    "    dat=[]\n",
    "    sum=[]\n",
    "    for i in range(len(vec)):\n",
    "        for j in range(beans):\n",
    "            if vec[i]>ParE and vec[i]<=ParS:\n",
    "                dat.append(ParE)\n",
    "            ParE=ParS\n",
    "            ParS+=aumento\n",
    "        ParE=0.0\n",
    "        ParS=aumento\n",
    "    k=0.0\n",
    "    while k<=1:\n",
    "        sum.append(dat.count(k))\n",
    "        print dat.count(k)\n",
    "        k+=aumento\n",
    "    ei=(muestras+0.0)/(beans+0.0)\n",
    "    print len(sum)\n",
    "    val=0.0\n",
    "    for j in range(len(sum)):\n",
    "        val+=((sum[j]-ei)**2)/ei\n",
    "    print val\n"
   ]
  },
  {
   "cell_type": "code",
   "execution_count": 18,
   "metadata": {
    "collapsed": false
   },
   "outputs": [
    {
     "name": "stdout",
     "output_type": "stream",
     "text": [
      "('De = ', 0.22878622683025868)\n",
      "Hipotesis con alfa de 0.05\n",
      "Hipotesis rechazada\n"
     ]
    }
   ],
   "source": [
    "testKolmogorov(2000)"
   ]
  },
  {
   "cell_type": "code",
   "execution_count": null,
   "metadata": {
    "collapsed": true
   },
   "outputs": [],
   "source": []
  }
 ],
 "metadata": {
  "kernelspec": {
   "display_name": "Python 2",
   "language": "python",
   "name": "python2"
  },
  "language_info": {
   "codemirror_mode": {
    "name": "ipython",
    "version": 2
   },
   "file_extension": ".py",
   "mimetype": "text/x-python",
   "name": "python",
   "nbconvert_exporter": "python",
   "pygments_lexer": "ipython2",
   "version": "2.7.11"
  }
 },
 "nbformat": 4,
 "nbformat_minor": 0
}
