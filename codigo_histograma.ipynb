from matplotlib.pylab import hist, show
import numpy as np
import matplotlib.pyplot as plt
import math
def congruencial(a,b,m,x0,n):
    xn=0.0
    un=0.0
    list = []
    for j in range(0,n):
        xn=(a*x0 + b)%m
        un=xn/float(m)
        list.insert(j,un)
        x0=xn
    return list
def histograma():
    data=[]
    arreglo=congruencial(89.0,29.0,58.0,24.0,10000)
    for j in range(len(arreglo)):
        if arreglo[j]<=0.1:
            data.append(0.0)
        if arreglo[j]>0.1 and arreglo[j]<=0.2:
            data.append(0.1)
        if arreglo[j]>0.2 and arreglo[j]<=0.3:
            data.append(0.2)
        if arreglo[j]>0.3 and arreglo[j]<=0.4:
            data.append(0.3)
        if arreglo[j]>0.4 and arreglo[j]<=0.5:
            data.append(0.4)
        if arreglo[j]>0.5 and arreglo[j]<=0.6:
            data.append(0.5)
        if arreglo[j]>0.6 and arreglo[j]<=0.7:
            data.append(0.6)
        if arreglo[j]>0.7 and arreglo[j]<=0.8:
            data.append(0.7)
        if arreglo[j]>0.8 and arreglo[j]<=0.9:
            data.append(0.8)
        if arreglo[j]>0.9 and arreglo[j]<=1.0:
            data.append(0.9)
    plt.subplot(4, 1, 1)
    count, bins, ignored = plt.hist(data, 10, normed=True)
def histogramaA():
    data=[]
    arreglo=congruencial(59.0,23.0,58.0,24.0,10000)   # 89 -> 59
    for j in range(len(arreglo)):
        if arreglo[j]<=0.1:
            data.append(0.0)
        if arreglo[j]>0.1 and arreglo[j]<=0.2:
            data.append(0.1)
        if arreglo[j]>0.2 and arreglo[j]<=0.3:
            data.append(0.2)
        if arreglo[j]>0.3 and arreglo[j]<=0.4:
            data.append(0.3)
        if arreglo[j]>0.4 and arreglo[j]<=0.5:
            data.append(0.4)
        if arreglo[j]>0.5 and arreglo[j]<=0.6:
            data.append(0.5)
        if arreglo[j]>0.6 and arreglo[j]<=0.7:
            data.append(0.6)
        if arreglo[j]>0.7 and arreglo[j]<=0.8:
            data.append(0.7)
        if arreglo[j]>0.8 and arreglo[j]<=0.9:
            data.append(0.8)
        if arreglo[j]>0.9 and arreglo[j]<=1.0:
            data.append(0.9)
    plt.subplot(4, 1, 2)
    count, bins, ignored = plt.hist(data, 10, normed=True)
def histogramaB():
    data=[]
    arreglo=congruencial(89.0,56.0,58.0,24.0,10000)   # b 23 -> 56
    for j in range(len(arreglo)):
        if arreglo[j]<=0.1:
            data.append(0.0)
        if arreglo[j]>0.1 and arreglo[j]<=0.2:
            data.append(0.1)
        if arreglo[j]>0.2 and arreglo[j]<=0.3:
            data.append(0.2)
        if arreglo[j]>0.3 and arreglo[j]<=0.4:
            data.append(0.3)
        if arreglo[j]>0.4 and arreglo[j]<=0.5:
            data.append(0.4)
        if arreglo[j]>0.5 and arreglo[j]<=0.6:
            data.append(0.5)
        if arreglo[j]>0.6 and arreglo[j]<=0.7:
            data.append(0.6)
        if arreglo[j]>0.7 and arreglo[j]<=0.8:
            data.append(0.7)
        if arreglo[j]>0.8 and arreglo[j]<=0.9:
            data.append(0.8)
        if arreglo[j]>0.9 and arreglo[j]<=1.0:
            data.append(0.9)   
    plt.subplot(4, 1, 3)
    count, bins, ignored = plt.hist(data, 10, normed=True)
def histogramaM():
    data=[]
    arreglo=congruencial(89.0,56.0,2147483647.0,24.0,10000)   #m  58 ->  2147483647 
    for j in range(len(arreglo)):
        if arreglo[j]<=0.1:
            data.append(0.0)
        if arreglo[j]>0.1 and arreglo[j]<=0.2:
            data.append(0.1)
        if arreglo[j]>0.2 and arreglo[j]<=0.3:
            data.append(0.2)
        if arreglo[j]>0.3 and arreglo[j]<=0.4:
            data.append(0.3)
        if arreglo[j]>0.4 and arreglo[j]<=0.5:
            data.append(0.4)
        if arreglo[j]>0.5 and arreglo[j]<=0.6:
            data.append(0.5)
        if arreglo[j]>0.6 and arreglo[j]<=0.7:
            data.append(0.6)
        if arreglo[j]>0.7 and arreglo[j]<=0.8:
            data.append(0.7)
        if arreglo[j]>0.8 and arreglo[j]<=0.9:
            data.append(0.8)
        if arreglo[j]>0.9 and arreglo[j]<=1.0:
            data.append(0.9)   
    plt.subplot(4, 1, 4)
    count, bins, ignored = plt.hist(data, 10, normed=True)
    #plt.show()   
histograma()
plt.title('histograma (generador congruencial)')
histogramaA()
plt.ylabel('cambiando a')
histogramaB()
plt.ylabel('cambiando')
histogramaM()
plt.ylabel('cambiando m')
plt.show()
