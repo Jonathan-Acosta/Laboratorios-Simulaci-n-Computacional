# Histograma
### En la siguiente implementacion, se visualiza graficamente el comportamiento de los numeros pseudoaleatorios generados por le metodo congruencial mixto en un histograma. Con ello se busca que modificando los parametros a,b y m se genere el histograma de cada uno y que siga una distribucion uniforme.
from matplotlib.pylab import hist, show
import numpy as np
import matplotlib.pyplot as plt
import math
        
def congruencial(a,b,m,x0,n):
    xn=0.0
    un=0.0
    list = []
    for i in range(0,n):
        xn=(a*x0 + b)%m
        un=xn/float(m)
        #print un
        list.insert(i,un)
        x0=xn
    return list
def generaHistograma():
    data=[]
    arreglo=congruencial(89.0,29.0,58.0,24.0,10000)
    for i in range(len(arreglo)):
        if arreglo[i]<=0.1:
            data.append(0.0)
        if arreglo[i]>0.1 and arreglo[i]<=0.2:
            data.append(0.1)
        if arreglo[i]>0.2 and arreglo[i]<=0.3:
            data.append(0.2)
        if arreglo[i]>0.3 and arreglo[i]<=0.4:
            data.append(0.3)
        if arreglo[i]>0.4 and arreglo[i]<=0.5:
            data.append(0.4)
        if arreglo[i]>0.5 and arreglo[i]<=0.6:
            data.append(0.5)
        if arreglo[i]>0.6 and arreglo[i]<=0.7:
            data.append(0.6)
        if arreglo[i]>0.7 and arreglo[i]<=0.8:
            data.append(0.7)
        if arreglo[i]>0.8 and arreglo[i]<=0.9:
            data.append(0.8)
        if arreglo[i]>0.9 and arreglo[i]<=1.0:
            data.append(0.9)
    plt.subplot(4, 1, 1)
    count, bins, ignored = plt.hist(data, 10, normed=True)
    #hist(data,10, (0,10))
    #show()
def generaHistogramaA():
    data=[]
    arreglo=congruencial(59.0,23.0,58.0,24.0,10000)   #cambiando el argumento a de 89 a 59
    for i in range(len(arreglo)):
        if arreglo[i]<=0.1:
            data.append(0.0)
        if arreglo[i]>0.1 and arreglo[i]<=0.2:
            data.append(0.1)
        if arreglo[i]>0.2 and arreglo[i]<=0.3:
            data.append(0.2)
        if arreglo[i]>0.3 and arreglo[i]<=0.4:
            data.append(0.3)
        if arreglo[i]>0.4 and arreglo[i]<=0.5:
            data.append(0.4)
        if arreglo[i]>0.5 and arreglo[i]<=0.6:
            data.append(0.5)
        if arreglo[i]>0.6 and arreglo[i]<=0.7:
            data.append(0.6)
        if arreglo[i]>0.7 and arreglo[i]<=0.8:
            data.append(0.7)
        if arreglo[i]>0.8 and arreglo[i]<=0.9:
            data.append(0.8)
        if arreglo[i]>0.9 and arreglo[i]<=1.0:
            data.append(0.9)
    plt.subplot(4, 1, 2)
    count, bins, ignored = plt.hist(data, 10, normed=True)
    #plt.show()
    #hist(data,10, (0,10))
    #show()
def generaHistogramaB():
    data=[]
    arreglo=congruencial(89.0,56.0,58.0,24.0,10000)   #cambiando el argumento b de 23 a 56
    for i in range(len(arreglo)):
        if arreglo[i]<=0.1:
            data.append(0.0)
        if arreglo[i]>0.1 and arreglo[i]<=0.2:
            data.append(0.1)
        if arreglo[i]>0.2 and arreglo[i]<=0.3:
            data.append(0.2)
        if arreglo[i]>0.3 and arreglo[i]<=0.4:
            data.append(0.3)
        if arreglo[i]>0.4 and arreglo[i]<=0.5:
            data.append(0.4)
        if arreglo[i]>0.5 and arreglo[i]<=0.6:
            data.append(0.5)
        if arreglo[i]>0.6 and arreglo[i]<=0.7:
            data.append(0.6)
        if arreglo[i]>0.7 and arreglo[i]<=0.8:
            data.append(0.7)
        if arreglo[i]>0.8 and arreglo[i]<=0.9:
            data.append(0.8)
        if arreglo[i]>0.9 and arreglo[i]<=1.0:
            data.append(0.9)   
    #hist(data,10, (0,10))
    #show()
    plt.subplot(4, 1, 3)
    count, bins, ignored = plt.hist(data, 10, normed=True)
    #plt.show()
def generaHistogramaM():
    data=[]
    arreglo=congruencial(89.0,56.0,2147483647.0,24.0,10000)   #cambiando el argumento m de 58 a 2147483647 
    for i in range(len(arreglo)):
        if arreglo[i]<=0.1:
            data.append(0.0)
        if arreglo[i]>0.1 and arreglo[i]<=0.2:
            data.append(0.1)
        if arreglo[i]>0.2 and arreglo[i]<=0.3:
            data.append(0.2)
        if arreglo[i]>0.3 and arreglo[i]<=0.4:
            data.append(0.3)
        if arreglo[i]>0.4 and arreglo[i]<=0.5:
            data.append(0.4)
        if arreglo[i]>0.5 and arreglo[i]<=0.6:
            data.append(0.5)
        if arreglo[i]>0.6 and arreglo[i]<=0.7:
            data.append(0.6)
        if arreglo[i]>0.7 and arreglo[i]<=0.8:
            data.append(0.7)
        if arreglo[i]>0.8 and arreglo[i]<=0.9:
            data.append(0.8)
        if arreglo[i]>0.9 and arreglo[i]<=1.0:
            data.append(0.9)   
    #hist(data,10, (0,10))
    #show()
    plt.subplot(4, 1, 4)
    count, bins, ignored = plt.hist(data, 10, normed=True)
    #plt.show()   
generaHistograma()
plt.title('Histograma del generador congruencial')
generaHistogramaA()
plt.ylabel('Modificando A')
generaHistogramaB()
plt.ylabel('Modificando B')
generaHistogramaM()
plt.ylabel('Modificando M')
plt.show()
