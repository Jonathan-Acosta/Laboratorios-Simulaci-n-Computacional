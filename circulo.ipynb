{
 "cells": [
  {
   "cell_type": "markdown",
   "metadata": {},
   "source": [
    "# AREA CIRCULO"
   ]
  },
  {
   "cell_type": "markdown",
   "metadata": {},
   "source": [
    "## Método para calcular el area de un circulo, por medio de la generación de números aleatorios de distribución uniforme"
   ]
  },
  {
   "cell_type": "code",
   "execution_count": 3,
   "metadata": {
    "collapsed": true
   },
   "outputs": [],
   "source": [
    "import numpy as np\n",
    "import matplotlib.pyplot as plt\n",
    "import math\n",
    "\n",
    "\n",
    "def randuX(n):\n",
    "    \"\"\"Retorna una lista que contiene n valores aproximados a una distribución uniforme U(0,1).\n",
    "    \n",
    "    A partir del método congruencial mixto... Xn = (170*Xn-1 + 1) mod 30323.\n",
    "    \"\"\"\n",
    "    x0 = 7          #Este es el valor semilla elegido.\n",
    "    valores = []\n",
    "    for i in range(0,n):\n",
    "        xi = (170*x0 + 1)%30323\n",
    "        ui = xi/30323.0\n",
    "        valores.append(ui)\n",
    "        x0 = xi\n",
    "    return valores\n",
    "\n",
    "\n",
    "def randuY(n):\n",
    "    \"\"\"Retorna una lista que contiene n valores aproximados a una distribución uniforme U(0,1).\n",
    "    \n",
    "    A partir del método congruencial mixto... Xn = (172*Xn-1 + 1) mod 30307.\n",
    "    \"\"\"\n",
    "    x0 = 7          #Este es el valor semilla elegido.\n",
    "    valores = []\n",
    "    for i in range(0,n):\n",
    "        xi = (172*x0 + 1)%30307\n",
    "        ui = xi/30307.0\n",
    "        valores.append(ui)\n",
    "        x0 = xi\n",
    "    return valores\n",
    "\n",
    "\n",
    "def calcular_area_circulo(r):\n",
    "    \"\"\"Devuelve el área del circulo de radio \"r\".\"\"\"\n",
    "    num = 500                        \n",
    "    coordenadasUx = randuX(num)  \n",
    "    coordenadasUy = randuY(num)  \n",
    "    coordenadasXi = []\n",
    "    coordenadasYi = []\n",
    "    k = r       # 2*k es el valor para el lado del cuadrado en el cual se inscribirá el círculo.\n",
    "    \n",
    "    #Realizando la conversión de las coordenadas [Ux,Uy] en el rango [0,1], \n",
    "    #obteniendo los valores para las nuevas coordenadas [Xi,Yi] en el rango [-r,r].\n",
    "    for i in range(0, num):\n",
    "        xi = 2*k*coordenadasUx[i]-k\n",
    "        coordenadasXi.append(xi)\n",
    "        yi = 2*k*coordenadasUy[i]-k\n",
    "        coordenadasYi.append(yi)\n",
    "        \n",
    "    #Graficando el círculo inscrito en un cuadrado de lado 2*k .  \n",
    "    x = np.arange(-r,r+1,0.01)\n",
    "    y = np.sqrt(r**2 - x**2) # Obteniendo los valores de y a partir de la función para la circunferencia  \n",
    "                             # con centro en (0,0).  y = raízCuadrada(r^2 - x^2).\n",
    "    y1 = -y\n",
    "    x1 = np.arange(-k,k,0.01)\n",
    "    y2 = 0*x1 + k\n",
    "    y3 = 0*x1 -k\n",
    "    y4 = np.arange(-k,k,0.01)\n",
    "    x2 = 0*y4 + k\n",
    "    x3 = 0*y4 - k\n",
    "    plt.plot(x,y)\n",
    "    plt.plot(x,y1,color='blue')\n",
    "    plt.plot(x1,y2,color='red')\n",
    "    plt.plot(x1,y3,color='red')\n",
    "    plt.plot(x2,y4,color='red')\n",
    "    plt.plot(x3,y4,color='red')\n",
    "    \n",
    "    #Graficando los puntos [Xi,Yi] y contando los que cayeron al interior del círculo de radio r.   \n",
    "    contador = 0    \n",
    "    for i in range(0, num):\n",
    "        xi = coordenadasXi[i]\n",
    "        yi = coordenadasYi[i]\n",
    "        if r**2 >= (xi**2 + yi**2):\n",
    "           contador = contador + 1        \n",
    "           plt.plot(coordenadasXi[i], coordenadasYi[i], 'ro')\n",
    "        else:\n",
    "           plt.plot(coordenadasXi[i], coordenadasYi[i], 'go')\n",
    "    #print contador\n",
    "   \n",
    "    #Obteniendo el área estimada del círculo a partir de la relación (#puntosEnElCírculo / #puntosTotalesSimulados)*(2r)^2       \n",
    "    areaEstimada = (contador/float(num))*((2*r)**2)\n",
    "    #Obteniendo el área real del círculo.\n",
    "    areaReal = math.pi*(r**2)\n",
    "    \n",
    "    #Añadiendo coordenadas de los ejes e información de la gráfica.\n",
    "    plt.axis([-k-3, k+3, -k-3, k+3 ]) #Define los límites para las coordenadas de los ejes X e Y de la gráfica.\n",
    "    plt.xlabel('Coordenadas x')  \n",
    "    plt.ylabel('Coordenadas y')  \n",
    "    plt.title('Area real = ' + str(areaReal) + '\\nArea estimada = ' + str(areaEstimada) + \n",
    "    '\\nError = ' + str(abs(areaReal-areaEstimada)) )\n",
    "    plt.show()\n",
    "    \n"
   ]
  },
  {
   "cell_type": "code",
   "execution_count": 4,
   "metadata": {
    "collapsed": false
   },
   "outputs": [
    {
     "name": "stderr",
     "output_type": "stream",
     "text": [
      "C:\\Users\\Jonathan\\Anaconda2\\lib\\site-packages\\ipykernel\\__main__.py:57: RuntimeWarning: invalid value encountered in sqrt\n"
     ]
    }
   ],
   "source": [
    "calcular_area_circulo(7)"
   ]
  },
  {
   "cell_type": "code",
   "execution_count": null,
   "metadata": {
    "collapsed": true
   },
   "outputs": [],
   "source": []
  }
 ],
 "metadata": {
  "kernelspec": {
   "display_name": "Python 2",
   "language": "python",
   "name": "python2"
  },
  "language_info": {
   "codemirror_mode": {
    "name": "ipython",
    "version": 2
   },
   "file_extension": ".py",
   "mimetype": "text/x-python",
   "name": "python",
   "nbconvert_exporter": "python",
   "pygments_lexer": "ipython2",
   "version": "2.7.11"
  }
 },
 "nbformat": 4,
 "nbformat_minor": 0
}
