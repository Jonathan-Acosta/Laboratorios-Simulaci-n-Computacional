import numpy as np
import matplotlib.pyplot as plt
import math
def congluencial(a,b,m,x0,n):
    xn=0.0
    un=0.0
    list = []
    for i in range(0,n):
        xn=(a*x0 + b)%m
        un=xn/float(m)
        #print un
        list.insert(i,un)
        x0=xn
    return list
