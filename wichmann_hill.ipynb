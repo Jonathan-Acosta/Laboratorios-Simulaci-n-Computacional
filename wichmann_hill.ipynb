{
 "cells": [
  {
   "cell_type": "markdown",
   "metadata": {},
   "source": [
    "# Wichmann y Hill "
   ]
  },
  {
   "cell_type": "markdown",
   "metadata": {},
   "source": [
    "## Método de combinación de generadores multiplicativos"
   ]
  },
  {
   "cell_type": "code",
   "execution_count": null,
   "metadata": {
    "collapsed": false
   },
   "outputs": [
    {
     "name": "stdout",
     "output_type": "stream",
     "text": [
      "\n",
      "MENU: \n",
      "1. Para generar numeros pseudoaleatorios. \n",
      "2. Salir.\n",
      "1\n",
      "\n",
      "******************GENERADOR CONGRUENCIAL COMBINADO******************\n",
      "\n",
      "\n",
      "Ingrese el valor semilla para el primer generador Xi = 171*Xi-1 MOD 30269\n",
      "  X0 = 10\n",
      "\n",
      "\n",
      "Ingrese el valor semilla para el segundo generador Yi = 172*Xi-1 MOD 30307\n",
      "  Y0 = 20\n",
      "\n",
      "\n",
      "Ingrese el valor semilla para el tercer generador Zi = 170*Xi-1 MOD 30323\n",
      "  Z0 = 30\n",
      "\n",
      "Ingrese la cantidad de numeros aleatorios a generar: 10\n",
      "\n",
      "\n",
      "U0 = 0.338187736305\n",
      "U1 = 0.775418875597\n",
      "U2 = 0.527352461391\n",
      "U3 = 0.446240744053\n",
      "U4 = 0.903621911497\n",
      "U5 = 0.82854373037\n",
      "U6 = 0.0915098817762\n",
      "U7 = 0.133813760275\n",
      "U8 = 0.0102090890936\n",
      "U9 = 0.895860335051\n"
     ]
    }
   ],
   "source": [
    "import sys  # combinación de los tres generadores previos\n",
    "while True:\n",
    "        opcion = input(\"\\nMENU: \\n1. Para generar numeros pseudoaleatorios. \\n2. Salir.\\n\")\n",
    "        if opcion == 1:\n",
    "                print '\\n******************GENERADOR CONGRUENCIAL COMBINADO******************'\n",
    "                x0 = input(\"\\n\\nIngrese el valor semilla para el primer generador Xi = 171*Xi-1 MOD 30269\\n  X0 = \")\n",
    "                y0 = input(\"\\n\\nIngrese el valor semilla para el segundo generador Yi = 172*Xi-1 MOD 30307\\n  Y0 = \")\n",
    "                z0 = input(\"\\n\\nIngrese el valor semilla para el tercer generador Zi = 170*Xi-1 MOD 30323\\n  Z0 = \")\n",
    "                cantidad = input(\"\\nIngrese la cantidad de numeros aleatorios a generar: \")\n",
    "                print \"\\n\"\n",
    "                for i in range(0,cantidad):\n",
    "                    xi = (171*x0)%30269\n",
    "                    yi = (172*y0)%30307\n",
    "                    zi = (170*z0)%30323\n",
    "                    ui = (xi/30269.0 + yi/30307.0 + zi/30323.0)%1 \n",
    "                    print \"U\" + str(i) + \" = \" + str(ui)\n",
    "                    x0 = xi\n",
    "                    y0 = yi\n",
    "                    z0 = zi\n",
    "\n",
    "        elif opcion == 2:\n",
    "                sys.exit()\n",
    "\n",
    "        else:\n",
    "                print 'ERROR!!!.\\n'"
   ]
  },
  {
   "cell_type": "code",
   "execution_count": null,
   "metadata": {
    "collapsed": true
   },
   "outputs": [],
   "source": []
  },
  {
   "cell_type": "code",
   "execution_count": null,
   "metadata": {
    "collapsed": true
   },
   "outputs": [],
   "source": []
  }
 ],
 "metadata": {
  "kernelspec": {
   "display_name": "Python 2",
   "language": "python",
   "name": "python2"
  },
  "language_info": {
   "codemirror_mode": {
    "name": "ipython",
    "version": 2
   },
   "file_extension": ".py",
   "mimetype": "text/x-python",
   "name": "python",
   "nbconvert_exporter": "python",
   "pygments_lexer": "ipython2",
   "version": "2.7.11"
  }
 },
 "nbformat": 4,
 "nbformat_minor": 0
}
